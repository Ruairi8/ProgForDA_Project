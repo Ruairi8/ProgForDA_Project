{
 "cells": [
  {
   "cell_type": "markdown",
   "metadata": {},
   "source": [
    "### Commentary on the data set variables and their expected contributions to the risk of developing heart disease:"
   ]
  },
  {
   "cell_type": "markdown",
   "metadata": {},
   "source": [
    "High blood pressure has long been known as a very important risk factor for cardiovascular disease. \"Large cohort studies have demonstrated that high BP is an important risk factor for heart failure, atrial fibrillation, chronic kidney disease, heart valve diseases, aortic syndromes, and dementia, in addition to coronary heart disease and stroke.\"[4] A systolic blood pressure of 120 or lower and a diastolic blood pressure of 80 or lower is considered normal and not a risk factor for developing cardiovascular disease. A systolic blood pressure of between 130 and 139, or a diastolic blood pressure between 80 and 89 is considered to be high blood pressure stage 1 and a risk factor for cardiovascular disease. Readings of 140 or higher for systolic blood pressure or 90 or higher for diastolic blood pressure is stage 2 high blood pressure. Readings higher that 180 and/or 120 is considered a crisis level, and one may have noticeable symptoms such as chest pains and require prompt medical attention. Due to spikes in blood pressure, a one-off high reading is not considered accurate if subsequent readings are within the normal range. Systolic blood pressure usually rises with age due to arterial stiffness, or what is termed \"hardening of the arteries\" and the build up of plaque. The causes of high blood pressure are mostly unknown. High blood pressure with an identifiable cause is termed \"secondary hypertension\". Narrowing of arteries to the kidneys is a common cause of \"secondary hypertension\"."
   ]
  },
  {
   "cell_type": "markdown",
   "metadata": {},
   "source": [
    "The incidence and people who are overweight or obese had increased dramatically in the last one hundred years. This is largely due to the American style diet which is overloaded with sugar and fried foods, and also due to other factors such as increased pesticide use which depletes the soil of nutrients considered vital to human health. Those who are considered overweight and especially those who are obese are at an increased risk of cardiovascular disease due to a few reasons. Obesity alone is considered a risk, independent of other factors. Obesity can cause higher triglyceride levels and bad cholesterol, while also lower good (HDL) cholesterol. It can cause high blood pressure, \"A 2020 review estimates that obesity accounts for 65 to 78 percentTrusted Source of cases of primary hypertension.\" Body mass index (BMI) is an important measurement to distinguish between being overweight and being obese. \"Your BMI is the ratio between your weight and your height.\"[5] According to the variables \"height\" and \"weight\" in the data set, it may be estimated which of those are overweight or obese; and the rate of cardiovascular disease for this group. Those who have a high amount of visceral fat, or fat around the midsection may or may not be termed obese, yet this is another cause of cardiovascular disease. Perhaps this may skew the correlation between weight and rates of the disease."
   ]
  },
  {
   "cell_type": "markdown",
   "metadata": {},
   "source": [
    "High blood sugar levels or glucose can damage blood vessels and lead to heart disease. People with diabetes have high glucose levels. Hardening of he arteries, or atherosclerosis is the most common cause of heart disease in diabetics. Ruptured cholestrol plaques can lead to narrowing of the arteries and if the artery becomes completely blocked so blood cannot flow through, the result is a heart attack."
   ]
  },
  {
   "cell_type": "markdown",
   "metadata": {},
   "source": [
    "\"As many as 30% of all coronary heart disease (CHD) deaths in the United States each year are attributable to cigarette smoking, with the risk being strongly dose-related.\"[6] Smoking also increase the risk of stroke and acts with other risk factors to increase the risk of developing CHD. The chemicals contained in tobacco smoke can cause blood to thicken and form clots inside veins and arteries, these chemicals also increase formation of plaque. Even small amounts of alcohol consumption can increase the risk of heart disease. Immediately after alcohol is consumed, there is an increase in heart rate and blood pressure. Long term drinkers can lead to on-going increased heart rate and high blood pressure among other heart-related problems. Increased heart rate, or tachycardia can cause clots that lead to a heart attack or a stroke. Heavy drinkers can develop cardiomyopathy, which is damaged heart muscle. This cardiomyopathy can cause heart chambers to enlarge making it harder to circulate blood around the body, leading eventually to congestive heart failure, a type of heart disease. Alcohol can also increase the level of triglycerides in the blood leading to plaque formation."
   ]
  },
  {
   "cell_type": "markdown",
   "metadata": {},
   "source": [
    "A lack of regular physical activity can lead to many factors which cause heart disease such as obesity, high blood pressure and diabetes. Physical activity helps to regulate these risk factors for heart disease, although \"Not getting enough physical activity can lead to heart disease—even for people who have no other risk factors.\"[7]"
   ]
  },
  {
   "cell_type": "markdown",
   "metadata": {},
   "source": [
    "High cholestrol alone may not always be a risk factor, so there may not be signigicant trends in those with a cholestrol level of 2, \"above normal\" or 3, \"well above normal\" tending towards a higher incidence of heart disease. It is rather the proportion of \"bad\" cholestrol versus \"good\" cholestrol that matters. Low-density lipoprotein or LDL cholestrol, also known as \"bad\" cholestrol is the main source of arterial plaque. Cholestrol works with other risk factors by lowering them or increasing them. For example, losing weight and or being physically active can raise high-density lipoprotein, \"good\" cholestrol while also lowering LDL cholestrol. Cholestrol in general tends to also rise with age."
   ]
  },
  {
   "cell_type": "markdown",
   "metadata": {},
   "source": [
    "## References: "
   ]
  },
  {
   "cell_type": "markdown",
   "metadata": {},
   "source": [
    "[1] https://numpy.org/doc/stable/reference/index.html"
   ]
  },
  {
   "cell_type": "markdown",
   "metadata": {},
   "source": [
    "[2] https://pandas.pydata.org/docs/reference/index.html#api"
   ]
  },
  {
   "cell_type": "markdown",
   "metadata": {},
   "source": [
    "[3] https://matplotlib.org/stable/api/index.html"
   ]
  },
  {
   "cell_type": "markdown",
   "metadata": {},
   "source": [
    "[4] https://www.ahajournals.org/doi/full/10.1161/HYPERTENSIONAHA.119.14240]"
   ]
  },
  {
   "cell_type": "markdown",
   "metadata": {},
   "source": [
    "[5] https://www.healthline.com/health/high-blood-pressure-hypertension/obesity-and-hypertension#how-theyre-linked"
   ]
  },
  {
   "cell_type": "markdown",
   "metadata": {},
   "source": [
    "[6] https://www.ahajournals.org/doi/full/10.1161/01.cir.96.9.3243"
   ]
  },
  {
   "cell_type": "markdown",
   "metadata": {},
   "source": [
    "[7] https://www.cdc.gov/chronicdisease/resources/publications/factsheets/physical-activity.htm#:~:text=Not%20getting%20enough%20physical%20activity%20can%20lead%20to%20heart%20disease,cholesterol%2C%20and%20type%202%20diabetes."
   ]
  }
 ],
 "metadata": {
  "kernelspec": {
   "display_name": "Python 3",
   "language": "python",
   "name": "python3"
  },
  "language_info": {
   "codemirror_mode": {
    "name": "ipython",
    "version": 3
   },
   "file_extension": ".py",
   "mimetype": "text/x-python",
   "name": "python",
   "nbconvert_exporter": "python",
   "pygments_lexer": "ipython3",
   "version": "3.8.3"
  }
 },
 "nbformat": 4,
 "nbformat_minor": 4
}
