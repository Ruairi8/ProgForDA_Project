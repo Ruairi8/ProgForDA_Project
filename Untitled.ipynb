{
 "cells": [
  {
   "cell_type": "markdown",
   "metadata": {},
   "source": [
    "Creating randomly generated numpy dataframes, specifying a mean, standard deviation and sample size:"
   ]
  },
  {
   "cell_type": "code",
   "execution_count": 1,
   "metadata": {},
   "outputs": [],
   "source": [
    "import numpy as np\n",
    "import pandas as pd\n",
    "# 'numpy.random.normal' takes in 2 parameters, mean, standard deviation and size. Each time it is run, it will create a randomly generated numpy dataframe.\n",
    "agesInDays = np.random.normal(19531.26, 2461, 220)\n",
    "# 'random.binomial' is used to output a binary dataframe containing only ones and zeros:\n",
    "gender = np.random.binomial(1.409091, 0.492787, 220)\n",
    "height = np.random.normal(165.109091, 8.279750, 220)\n",
    "weight = np.random.normal(73.040909, 14.184793, 220)\n",
    "systolic_bp = np.random.normal(126.513636, 16.494770, 220)\n",
    "diastolic_bp =np.random.normal(81.322727, 9.702442, 220)\n",
    "# 'numpy.random.choice' allows the user to output values from a tuple weighted on the probabilities of each element occuring, where the size of the output dataframe is also specified in the input:\n",
    "cholestrol = np.random.choice((1,2,3), 220, p=[164/220, 33/220, 23/220])\n",
    "glucose = np.random.choice((1,2,3), 220, p=[192/220, 16/220, 12/220])\n",
    "smoke = np.random.choice((0,1), 220, p=[0.895455, 0.104545])\n",
    "alcohol = np.random.choice((0,1), 220, p=[0.959091, 0.040909])\n",
    "#print(alcohol)\n",
    "physicallyActive = np.random.choice((0,1), 220, p=[0.227273, 0.772727])\n",
    "#print(physicallyActive)\n",
    "heart_disease = np.random.choice((0,1), 220, p=[0.481818 , 0.518182])\n",
    "#ptint(heart_disease)"
   ]
  },
  {
   "cell_type": "code",
   "execution_count": 2,
   "metadata": {},
   "outputs": [
    {
     "data": {
      "text/html": [
       "<div>\n",
       "<style scoped>\n",
       "    .dataframe tbody tr th:only-of-type {\n",
       "        vertical-align: middle;\n",
       "    }\n",
       "\n",
       "    .dataframe tbody tr th {\n",
       "        vertical-align: top;\n",
       "    }\n",
       "\n",
       "    .dataframe thead th {\n",
       "        text-align: right;\n",
       "    }\n",
       "</style>\n",
       "<table border=\"1\" class=\"dataframe\">\n",
       "  <thead>\n",
       "    <tr style=\"text-align: right;\">\n",
       "      <th></th>\n",
       "      <th>agesInDays</th>\n",
       "      <th>gender</th>\n",
       "      <th>height</th>\n",
       "      <th>weight</th>\n",
       "      <th>systolic_bp</th>\n",
       "      <th>diastolic_bp</th>\n",
       "      <th>cholestrol</th>\n",
       "      <th>glucose</th>\n",
       "      <th>smoke</th>\n",
       "      <th>alcohol</th>\n",
       "      <th>phys_active</th>\n",
       "      <th>heart_disease</th>\n",
       "    </tr>\n",
       "  </thead>\n",
       "  <tbody>\n",
       "    <tr>\n",
       "      <th>0</th>\n",
       "      <td>[18547.045633111768, 19533.003303824113, 17822...</td>\n",
       "      <td>[0, 0, 0, 1, 1, 1, 0, 0, 1, 0, 1, 1, 1, 1, 0, ...</td>\n",
       "      <td>[166.87254120610672, 159.40942198072207, 159.3...</td>\n",
       "      <td>[55.63452368384746, 85.5642420515623, 89.11981...</td>\n",
       "      <td>[111.8166196571337, 171.73989021295424, 108.72...</td>\n",
       "      <td>[89.96172341860039, 93.72046715332476, 69.5434...</td>\n",
       "      <td>[1, 3, 2, 1, 1, 3, 1, 3, 1, 1, 1, 2, 1, 1, 1, ...</td>\n",
       "      <td>[3, 1, 1, 1, 2, 1, 1, 1, 1, 1, 1, 1, 1, 1, 1, ...</td>\n",
       "      <td>[0, 0, 0, 0, 0, 0, 0, 0, 0, 0, 0, 0, 0, 0, 0, ...</td>\n",
       "      <td>[0, 0, 0, 0, 0, 0, 1, 0, 0, 0, 0, 0, 0, 0, 0, ...</td>\n",
       "      <td>[1, 1, 1, 1, 0, 1, 0, 0, 1, 0, 1, 1, 0, 1, 1, ...</td>\n",
       "      <td>[1, 1, 1, 0, 0, 0, 0, 0, 1, 0, 0, 1, 0, 1, 1, ...</td>\n",
       "    </tr>\n",
       "  </tbody>\n",
       "</table>\n",
       "</div>"
      ],
      "text/plain": [
       "                                          agesInDays  \\\n",
       "0  [18547.045633111768, 19533.003303824113, 17822...   \n",
       "\n",
       "                                              gender  \\\n",
       "0  [0, 0, 0, 1, 1, 1, 0, 0, 1, 0, 1, 1, 1, 1, 0, ...   \n",
       "\n",
       "                                              height  \\\n",
       "0  [166.87254120610672, 159.40942198072207, 159.3...   \n",
       "\n",
       "                                              weight  \\\n",
       "0  [55.63452368384746, 85.5642420515623, 89.11981...   \n",
       "\n",
       "                                         systolic_bp  \\\n",
       "0  [111.8166196571337, 171.73989021295424, 108.72...   \n",
       "\n",
       "                                        diastolic_bp  \\\n",
       "0  [89.96172341860039, 93.72046715332476, 69.5434...   \n",
       "\n",
       "                                          cholestrol  \\\n",
       "0  [1, 3, 2, 1, 1, 3, 1, 3, 1, 1, 1, 2, 1, 1, 1, ...   \n",
       "\n",
       "                                             glucose  \\\n",
       "0  [3, 1, 1, 1, 2, 1, 1, 1, 1, 1, 1, 1, 1, 1, 1, ...   \n",
       "\n",
       "                                               smoke  \\\n",
       "0  [0, 0, 0, 0, 0, 0, 0, 0, 0, 0, 0, 0, 0, 0, 0, ...   \n",
       "\n",
       "                                             alcohol  \\\n",
       "0  [0, 0, 0, 0, 0, 0, 1, 0, 0, 0, 0, 0, 0, 0, 0, ...   \n",
       "\n",
       "                                         phys_active  \\\n",
       "0  [1, 1, 1, 1, 0, 1, 0, 0, 1, 0, 1, 1, 0, 1, 1, ...   \n",
       "\n",
       "                                       heart_disease  \n",
       "0  [1, 1, 1, 0, 0, 0, 0, 0, 1, 0, 0, 1, 0, 1, 1, ...  "
      ]
     },
     "execution_count": 2,
     "metadata": {},
     "output_type": "execute_result"
    }
   ],
   "source": [
    "df1 = pd.DataFrame({\"agesInDays\": [np.random.normal(19531.26, 2461, 220)],\n",
    "                    \"gender\": [np.random.binomial(1.409091, 0.492787, 220)],\n",
    "                    \"height\": [np.random.normal(165.109091, 8.279750, 220)],\n",
    "                    \"weight\": [np.random.normal(73.040909, 14.184793, 220)],\n",
    "                    \"systolic_bp\": [np.random.normal(126.513636, 16.494770, 220)],\n",
    "                    \"diastolic_bp\": [np.random.normal(81.322727, 9.702442, 220)],\n",
    "                    \"cholestrol\": [np.random.choice((1,2,3), 220, p=[164/220, 33/220, 23/220])],\n",
    "                    \"glucose\": [np.random.choice((1,2,3), 220, p=[192/220, 16/220, 12/220])],\n",
    "                    \"smoke\": [np.random.choice((0,1), 220, p=[0.895455, 0.104545])],\n",
    "                    \"alcohol\": [np.random.choice((0,1), 220, p=[0.959091, 0.040909])],\n",
    "                    \"phys_active\": [np.random.choice((0,1), 220, p=[0.227273, 0.772727])],\n",
    "                    \"heart_disease\": [np.random.choice((0,1), 220, p=[0.481818 , 0.518182])]})\n",
    "df1"
   ]
  },
  {
   "cell_type": "markdown",
   "metadata": {},
   "source": [
    "High blood pressure has long been known as a very important risk factor for cardiovascular disease. \"Large cohort studies have demonstrated that high BP is an important risk factor for heart failure, atrial fibrillation, chronic kidney disease, heart valve diseases, aortic syndromes, and dementia, in addition to coronary heart disease and stroke.\" [1] A systolic blood pressure of 120 or lower and a diastolic blood pressure of 80 or lower is considered normal and not a risk factor for developing cardiovascular disease. A systolic blood pressure of between 130 and 139, or a diastolic blood pressure between 80 and 89 is considered to be high blood pressure stage 1 and a risk factor for cardiovascular disease. Readings of 140 or higher for systolic blood pressure or 90 or higher for diastolic blood pressure is stage 2 high blood pressure. Readings higher that 180 and/or 120 is considered a crisis level, and one may have noticeable symptoms such as chest pains and require prompt medical attention. Due to spikes in blood pressure, a one-off high reading is not considered accurate if subsequent readings are within the normal range. Systolic blood pressure usually rises with age due to arterial stiffness, or what is termed \"hardening of the arteries\" and the build up of plaque. The causes of high blood pressure are mostly unknown, so other variables of \"weight\", \"smoke\" etc in the dataset are unlikely to have any relationship to \"systolic_bp\" or \"diastolic_bp\" variables. High blood pressure with an identifiable cause is termed \"secondary hypertension\". Narrowing of arteries to the kidneys is a common cause of \"secondary hypertension\". "
   ]
  },
  {
   "cell_type": "code",
   "execution_count": null,
   "metadata": {},
   "outputs": [],
   "source": []
  },
  {
   "cell_type": "markdown",
   "metadata": {},
   "source": [
    "# References: "
   ]
  },
  {
   "cell_type": "markdown",
   "metadata": {},
   "source": [
    "[1] https://www.ahajournals.org/doi/full/10.1161/HYPERTENSIONAHA.119.14240"
   ]
  },
  {
   "cell_type": "code",
   "execution_count": null,
   "metadata": {},
   "outputs": [],
   "source": []
  }
 ],
 "metadata": {
  "kernelspec": {
   "display_name": "Python 3",
   "language": "python",
   "name": "python3"
  },
  "language_info": {
   "codemirror_mode": {
    "name": "ipython",
    "version": 3
   },
   "file_extension": ".py",
   "mimetype": "text/x-python",
   "name": "python",
   "nbconvert_exporter": "python",
   "pygments_lexer": "ipython3",
   "version": "3.8.3"
  }
 },
 "nbformat": 4,
 "nbformat_minor": 4
}
