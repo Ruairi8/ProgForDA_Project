{
 "cells": [
  {
   "cell_type": "markdown",
   "metadata": {},
   "source": [
    "Creating randomly generated numpy dataframes, specifying a mean, standard deviation and sample size:"
   ]
  },
  {
   "cell_type": "code",
   "execution_count": null,
   "metadata": {},
   "outputs": [],
   "source": [
    "# 'numpy.random.normal' takes in 2 parameters, mean, standard deviation and size. Each time it is run, it will create a randomly generated numpy dataframe.\n",
    "agesInDays = np.random.normal(19531.26, 2461, 220)\n",
    "# 'random.binomial' is used to output a binary dataframe containing only ones and zeros:\n",
    "gender = np.random.binomial(1.409091, 0.492787, 220)\n",
    "height = np.random.normal(165.109091, 8.279750, 220)\n",
    "weight = np.random.normal(73.040909, 14.184793, 220)\n",
    "systolic_bp = np.random.normal(126.513636, 16.494770, 220)\n",
    "diastolic_bp =np.random.normal(81.322727, 9.702442, 220)\n",
    "# 'numpy.random.choice' allows the user to output values from a tuple weighted on the probabilities of each element occuring, where the size of the output dataframe is also specified in the input:\n",
    "cholestrol = np.random.choice((1,2,3), 220, p=[164/220, 33/220, 23/220])\n",
    "glucose = np.random.choice((1,2,3), 220, p=[192/220, 16/220, 12/220])\n",
    "smoke = np.random.binomial(0.104545, 0.306665, 220)\n",
    "alcohol = np.random.binomial(0.040909, 0.198531, 220)\n",
    "physicallyActive = np.random.binomial(0.772727, 0.420026, 200)\n",
    "heart_disease = np.random.binomial(0.518182, 0.500809, 220)"
   ]
  },
  {
   "cell_type": "code",
   "execution_count": null,
   "metadata": {},
   "outputs": [],
   "source": []
  },
  {
   "cell_type": "code",
   "execution_count": null,
   "metadata": {},
   "outputs": [],
   "source": []
  },
  {
   "cell_type": "code",
   "execution_count": null,
   "metadata": {},
   "outputs": [],
   "source": []
  },
  {
   "cell_type": "code",
   "execution_count": null,
   "metadata": {},
   "outputs": [],
   "source": []
  }
 ],
 "metadata": {
  "kernelspec": {
   "display_name": "Python 3",
   "language": "python",
   "name": "python3"
  },
  "language_info": {
   "codemirror_mode": {
    "name": "ipython",
    "version": 3
   },
   "file_extension": ".py",
   "mimetype": "text/x-python",
   "name": "python",
   "nbconvert_exporter": "python",
   "pygments_lexer": "ipython3",
   "version": "3.8.3"
  }
 },
 "nbformat": 4,
 "nbformat_minor": 4
}
